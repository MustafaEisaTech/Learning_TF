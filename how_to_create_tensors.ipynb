{
  "nbformat": 4,
  "nbformat_minor": 0,
  "metadata": {
    "colab": {
      "provenance": [],
      "authorship_tag": "ABX9TyM0d1aQNzfOnda12xi/Nzt4",
      "include_colab_link": true
    },
    "kernelspec": {
      "name": "python3",
      "display_name": "Python 3"
    },
    "language_info": {
      "name": "python"
    }
  },
  "cells": [
    {
      "cell_type": "markdown",
      "metadata": {
        "id": "view-in-github",
        "colab_type": "text"
      },
      "source": [
        "<a href=\"https://colab.research.google.com/github/MustafaEisaTech/Learning_TF/blob/main/how_to_create_tensors.ipynb\" target=\"_parent\"><img src=\"https://colab.research.google.com/assets/colab-badge.svg\" alt=\"Open In Colab\"/></a>"
      ]
    },
    {
      "cell_type": "code",
      "source": [
        "import os\n",
        "os.environ['TF_CPP_MIN_LOG_LEVEL'] = '2'\n",
        "import tensorflow as tf\n",
        "# A tensor is a generalization of a scalar in the space\n",
        "physical_devices = tf.config.list_physical_devices('GPU')\n",
        "tf.config.experimental.set_memory_growth(physical_devices[0], True)"
      ],
      "metadata": {
        "id": "R0PTIUwUnm6C"
      },
      "execution_count": null,
      "outputs": []
    },
    {
      "cell_type": "code",
      "source": [
        "#Initialization of a tensor\n",
        "x = tf.constant(4.0, shape = (1, 1), dtype=tf.float32)\n",
        "x = tf.constant([[1, 2, 3], [3, 4, 5]])\n",
        "x = tf.ones((3, 3))# This initializes a tensor full of 0\n",
        "x = tf.zeros((2, 3))# This initializes a tensor full of 0\n",
        "x = tf.eye(3) # Eye for the identity matrix (I)\n",
        "x = tf.random.normal((3, 3), mean = 0, stddev = 1)\n",
        "x = tf.random.uniform((1, 3), minval = 0, maxval = 1)\n",
        "x =tf.range(start = 1, limit = 10, delta = 2)\n",
        "x = tf.cast(x, dtype = tf.float64)#dtpe = Data Type\n",
        "#tf.float(16, 32, 64), tf.int(), tf.bool\n",
        "\n",
        "#Mathematical operations\n",
        "x = tf.constant([1, 2, 3])\n",
        "y = tf.constant([9, 8, 7])\n",
        "\n",
        "z = tf.add(x, y)\n",
        "z = x + y\n",
        "\n",
        "z = tf.subtract(x, y)\n",
        "z = x-y\n",
        "\n",
        "z = tf.divide(x, y)\n",
        "z = x/y\n",
        "\n",
        "z = tf.multiply(x, y)\n",
        "z = x*y\n",
        "\n",
        "z = tf.tensordot(x, y, axes = 1)# The axes defines the dimensions for summation\n",
        "\n",
        "z = tf.reduce_sum(x*y, axis = 0)\n",
        "\n",
        "\n",
        "z = x**5\n",
        "\n",
        "x = tf.random.normal((2, 3))\n",
        "y = tf.random.normal((3, 4))\n",
        "z = tf.matmul(x, y)\n",
        "z = x@y\n",
        "\n",
        "\n",
        "# Tensor indexing\n",
        "x = tf.constant([0, 1, 1, 2, 1, 2, 3])\n",
        "'''\n",
        "print(x[1:])\n",
        "print(x[1:3])\n",
        "print(x[::2])\n",
        "print(x[::-1])\n",
        "'''\n",
        "indices = tf.constant([0, 3])\n",
        "x_ind = tf.gather(x, indices)\n",
        "\n",
        "\n",
        "x = tf.constant([[1, 2],\n",
        "                 [3, 4],\n",
        "                 [5, 6]])\n",
        "#print(x[0, :])\n",
        "#print(x[0:2, :])\n",
        "\n",
        "\n",
        "\n",
        "#Tensor reshaping\n",
        "x = tf.range(9)\n",
        "\n",
        "#print(x)\n",
        "\n",
        "x = tf.reshape(x, (3, 3))\n",
        "print(x)\n",
        "\n",
        "x = tf.transpose (x, perm = [1, 0])\n",
        "print(x)\n",
        "\n",
        "\n"
      ],
      "metadata": {
        "colab": {
          "base_uri": "https://localhost:8080/"
        },
        "id": "Q8B65S2hoCmh",
        "outputId": "797e10b5-1235-4445-ac80-04d85f0947d7"
      },
      "execution_count": null,
      "outputs": [
        {
          "output_type": "stream",
          "name": "stdout",
          "text": [
            "tf.Tensor([0 1 2 3 4 5 6 7 8], shape=(9,), dtype=int32)\n",
            "tf.Tensor(\n",
            "[[0 1 2]\n",
            " [3 4 5]\n",
            " [6 7 8]], shape=(3, 3), dtype=int32)\n",
            "tf.Tensor(\n",
            "[[0 3 6]\n",
            " [1 4 7]\n",
            " [2 5 8]], shape=(3, 3), dtype=int32)\n"
          ]
        }
      ]
    },
    {
      "cell_type": "code",
      "source": [],
      "metadata": {
        "id": "RR5NdWoarliL"
      },
      "execution_count": null,
      "outputs": []
    }
  ]
}