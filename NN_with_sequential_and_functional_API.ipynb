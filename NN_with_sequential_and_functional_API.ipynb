{
  "nbformat": 4,
  "nbformat_minor": 0,
  "metadata": {
    "colab": {
      "provenance": [],
      "gpuType": "T4",
      "authorship_tag": "ABX9TyP889IdOhw0sHPag2wRmdoy",
      "include_colab_link": true
    },
    "kernelspec": {
      "name": "python3",
      "display_name": "Python 3"
    },
    "language_info": {
      "name": "python"
    },
    "accelerator": "GPU"
  },
  "cells": [
    {
      "cell_type": "markdown",
      "metadata": {
        "id": "view-in-github",
        "colab_type": "text"
      },
      "source": [
        "<a href=\"https://colab.research.google.com/github/MustafaEisaTech/Learning_TF/blob/main/NN_with_sequential_and_functional_API.ipynb\" target=\"_parent\"><img src=\"https://colab.research.google.com/assets/colab-badge.svg\" alt=\"Open In Colab\"/></a>"
      ]
    },
    {
      "cell_type": "code",
      "execution_count": 3,
      "metadata": {
        "id": "2kw5iUkY_LUY"
      },
      "outputs": [],
      "source": [
        "#let's start by importing the models we need\n",
        "import tensorflow as tf\n",
        "from tensorflow import keras\n",
        "from tensorflow.keras import layers\n",
        "from tensorflow.keras.datasets import mnist\n",
        "\n",
        "import os\n",
        "os.environ['TF_CPP_MIN_LOG_LEVEL'] = '2'\n",
        "physical_device = tf.config.list_physical_devices('GPU')\n",
        "tf.config.experimental.set_memory_growth(physical_device[0], True)"
      ]
    },
    {
      "cell_type": "code",
      "source": [
        "# Now we need to load the data and preprocess it\n",
        "(x_train, y_train), (x_test, y_test) = mnist.load_data()\n",
        "x_train = x_train.reshape(-1, 784).astype('float32') / 255.0 #Reshape into a vector to input it into the NN\n",
        "x_test = x_test.reshape(-1, 784).astype('float32') / 255.0\n",
        "print(x_train.shape)"
      ],
      "metadata": {
        "id": "CeyOeluiDw3c",
        "colab": {
          "base_uri": "https://localhost:8080/"
        },
        "outputId": "bfac7e1d-c515-4bc9-ec20-bbd4c42aea3c"
      },
      "execution_count": 32,
      "outputs": [
        {
          "output_type": "stream",
          "name": "stdout",
          "text": [
            "(60000, 784)\n"
          ]
        }
      ]
    },
    {
      "cell_type": "code",
      "source": [
        "# We are going to create a model using Keras's Sequntial API\n",
        "#it maps one input to one output\n",
        "# create a model with a list inside that conatins all the layers\n",
        "#use the dense method and define the nodes and set the activation functions(layer.Dense())\n",
        "#Usually don't use an activation for the last layer\n",
        "model = keras.Sequential(\n",
        "    [\n",
        "      layers.Dense(512, activation = 'relu'),\n",
        "      layers.Dense(256, activation = 'relu' ),\n",
        "      layers.Dense(10)\n",
        "    ]\n",
        ")\n",
        "\n",
        "#After making the architecture, we can use the compile method for the training part\n",
        "# we can specify a loss function keras.losses.our choice and put it into a variable called loss\n",
        "# If we are not going to use a softmax in the last layer we usually need to set the from_logits parameter to true to send it through a softmax first\n",
        "# In the tutorial Sparse Categorical Cross entropy was used to use the label as an integer. Example if it was image of the digit 3, then it would sparse the value to 3 as a label\n",
        "# pick an optimizer using keras.optimizer.choose ur optimizer, the author used Adam and this method takes a parametr lr which is learning rate\n",
        "# specify the metrics = [\"accuracy\"]\n",
        "model.compile(\n",
        "    loss = keras.losses.SparseCategoricalCrossentropy(from_logits = True),\n",
        "    optimizer = keras.optimizers.Adam(learning_rate = 0.001),\n",
        "    metrics = ['accuracy']\n",
        ")\n",
        "\n",
        "\n",
        "#Model fitting\n",
        "#we want to send our training sets as parameter and specify the batch size and the epochs, we can set a value to verbose to print the process\n",
        "model.fit(x_train, y_train, batch_size = 32, epochs = 5, verbose = 2)\n",
        "#Model Evaluation\n",
        "#takes the test sets and the same parameters for the fit method expect the epochs\n",
        "model.evaluate(x_test, y_test, batch_size = 32, verbose = 2)\n",
        "\n",
        "\n"
      ],
      "metadata": {
        "id": "jypfrPnY88XF",
        "colab": {
          "base_uri": "https://localhost:8080/"
        },
        "outputId": "ef403758-cdeb-48a6-a938-16cccaa4b6a6"
      },
      "execution_count": 11,
      "outputs": [
        {
          "output_type": "stream",
          "name": "stdout",
          "text": [
            "Epoch 1/5\n",
            "1875/1875 - 4s - 2ms/step - accuracy: 0.9434 - loss: 0.1867\n",
            "Epoch 2/5\n",
            "1875/1875 - 6s - 3ms/step - accuracy: 0.9745 - loss: 0.0803\n",
            "Epoch 3/5\n",
            "1875/1875 - 3s - 2ms/step - accuracy: 0.9818 - loss: 0.0561\n",
            "Epoch 4/5\n",
            "1875/1875 - 3s - 2ms/step - accuracy: 0.9868 - loss: 0.0411\n",
            "Epoch 5/5\n",
            "1875/1875 - 6s - 3ms/step - accuracy: 0.9893 - loss: 0.0339\n",
            "313/313 - 1s - 3ms/step - accuracy: 0.9767 - loss: 0.0847\n"
          ]
        },
        {
          "output_type": "execute_result",
          "data": {
            "text/plain": [
              "[0.08472231775522232, 0.9767000079154968]"
            ]
          },
          "metadata": {},
          "execution_count": 11
        }
      ]
    },
    {
      "cell_type": "code",
      "source": [
        "# there are different ways u can make the architecture in, u can use this :\n",
        "model = keras.Sequential()\n",
        "model.add(keras.Input(shape = (784, )))\n",
        "model.add(layers.Dense(512, activation = 'relu'))\n",
        "model.add(layers.Dense(256, activation = 'relu', name = '256_layer'))\n",
        "model.add(layers.Dense(10))\n",
        "\n",
        "#model = keras.Model(inputs = inputs, outputs = [model.layer[-2].output])\n",
        "#model = keras.Model(inputs = model.inputs, outputs = [model.get_layer('256_layer').output])\n",
        "model = keras.Model(inputs = model.inputs, outputs = [layer.output for layer in model.layers])\n",
        "#feature = model.predict(x_train)\n",
        "#print(feature.shape)\n",
        "\n",
        "features = model.predict(x_train)\n",
        "for feature in features:\n",
        "  print(feature.shape)\n",
        "\n",
        "import sys\n",
        "sys.exit()"
      ],
      "metadata": {
        "colab": {
          "base_uri": "https://localhost:8080/",
          "height": 193
        },
        "id": "4r6zVWIxTYCn",
        "outputId": "4792aca1-f715-4207-a5fd-2fe35279f98f"
      },
      "execution_count": 47,
      "outputs": [
        {
          "output_type": "stream",
          "name": "stdout",
          "text": [
            "\u001b[1m1875/1875\u001b[0m \u001b[32m━━━━━━━━━━━━━━━━━━━━\u001b[0m\u001b[37m\u001b[0m \u001b[1m3s\u001b[0m 1ms/step\n",
            "(60000, 512)\n",
            "(60000, 256)\n",
            "(60000, 10)\n"
          ]
        },
        {
          "output_type": "error",
          "ename": "SystemExit",
          "evalue": "",
          "traceback": [
            "An exception has occurred, use %tb to see the full traceback.\n",
            "\u001b[0;31mSystemExit\u001b[0m\n"
          ]
        },
        {
          "output_type": "stream",
          "name": "stderr",
          "text": [
            "/usr/local/lib/python3.10/dist-packages/IPython/core/interactiveshell.py:3561: UserWarning: To exit: use 'exit', 'quit', or Ctrl-D.\n",
            "  warn(\"To exit: use 'exit', 'quit', or Ctrl-D.\", stacklevel=1)\n"
          ]
        }
      ]
    },
    {
      "cell_type": "code",
      "source": [
        "#The Functional API, the thing we use when the Sequential API is not convinent\n",
        "#it can handle multiple inputs and multiple outputs\n",
        "#we first define the shape of the inputs\n",
        "# it takes the layer before it\n",
        "inputs = keras.Input(shape = (784, ))\n",
        "x = layers.Dense(512, activation = 'relu', name = 'first_layer')(inputs)\n",
        "x = layers.Dense(256, activation = 'relu', name = 'second_layer')(x)\n",
        "outputs = layers.Dense(10, activation = 'softmax')(x)\n",
        "model = keras.Model(inputs = inputs, outputs = outputs)\n",
        "print(model.summary())\n",
        "\n",
        "model.compile(\n",
        "    loss = keras.losses.SparseCategoricalCrossentropy(from_logits = False),\n",
        "    optimizer = keras.optimizers.Adam(learning_rate = 0.001),\n",
        "    metrics = ['accuracy']\n",
        ")\n",
        "\n",
        "model.fit(x_train, y_train, batch_size=32, epochs = 10, verbose = 2)\n",
        "model.evaluate(x_test, y_test, batch_size = 32, verbose = 2)"
      ],
      "metadata": {
        "colab": {
          "base_uri": "https://localhost:8080/",
          "height": 656
        },
        "id": "n8GibeByXUT-",
        "outputId": "8f74a39d-a0b8-4260-b045-080c352baf1e"
      },
      "execution_count": 48,
      "outputs": [
        {
          "output_type": "display_data",
          "data": {
            "text/plain": [
              "\u001b[1mModel: \"functional_48\"\u001b[0m\n"
            ],
            "text/html": [
              "<pre style=\"white-space:pre;overflow-x:auto;line-height:normal;font-family:Menlo,'DejaVu Sans Mono',consolas,'Courier New',monospace\"><span style=\"font-weight: bold\">Model: \"functional_48\"</span>\n",
              "</pre>\n"
            ]
          },
          "metadata": {}
        },
        {
          "output_type": "display_data",
          "data": {
            "text/plain": [
              "┏━━━━━━━━━━━━━━━━━━━━━━━━━━━━━━━━━━━━━━┳━━━━━━━━━━━━━━━━━━━━━━━━━━━━━┳━━━━━━━━━━━━━━━━━┓\n",
              "┃\u001b[1m \u001b[0m\u001b[1mLayer (type)                        \u001b[0m\u001b[1m \u001b[0m┃\u001b[1m \u001b[0m\u001b[1mOutput Shape               \u001b[0m\u001b[1m \u001b[0m┃\u001b[1m \u001b[0m\u001b[1m        Param #\u001b[0m\u001b[1m \u001b[0m┃\n",
              "┡━━━━━━━━━━━━━━━━━━━━━━━━━━━━━━━━━━━━━━╇━━━━━━━━━━━━━━━━━━━━━━━━━━━━━╇━━━━━━━━━━━━━━━━━┩\n",
              "│ input_layer_36 (\u001b[38;5;33mInputLayer\u001b[0m)          │ (\u001b[38;5;45mNone\u001b[0m, \u001b[38;5;34m784\u001b[0m)                 │               \u001b[38;5;34m0\u001b[0m │\n",
              "├──────────────────────────────────────┼─────────────────────────────┼─────────────────┤\n",
              "│ first_layer (\u001b[38;5;33mDense\u001b[0m)                  │ (\u001b[38;5;45mNone\u001b[0m, \u001b[38;5;34m512\u001b[0m)                 │         \u001b[38;5;34m401,920\u001b[0m │\n",
              "├──────────────────────────────────────┼─────────────────────────────┼─────────────────┤\n",
              "│ second_layer (\u001b[38;5;33mDense\u001b[0m)                 │ (\u001b[38;5;45mNone\u001b[0m, \u001b[38;5;34m256\u001b[0m)                 │         \u001b[38;5;34m131,328\u001b[0m │\n",
              "├──────────────────────────────────────┼─────────────────────────────┼─────────────────┤\n",
              "│ dense_90 (\u001b[38;5;33mDense\u001b[0m)                     │ (\u001b[38;5;45mNone\u001b[0m, \u001b[38;5;34m10\u001b[0m)                  │           \u001b[38;5;34m2,570\u001b[0m │\n",
              "└──────────────────────────────────────┴─────────────────────────────┴─────────────────┘\n"
            ],
            "text/html": [
              "<pre style=\"white-space:pre;overflow-x:auto;line-height:normal;font-family:Menlo,'DejaVu Sans Mono',consolas,'Courier New',monospace\">┏━━━━━━━━━━━━━━━━━━━━━━━━━━━━━━━━━━━━━━┳━━━━━━━━━━━━━━━━━━━━━━━━━━━━━┳━━━━━━━━━━━━━━━━━┓\n",
              "┃<span style=\"font-weight: bold\"> Layer (type)                         </span>┃<span style=\"font-weight: bold\"> Output Shape                </span>┃<span style=\"font-weight: bold\">         Param # </span>┃\n",
              "┡━━━━━━━━━━━━━━━━━━━━━━━━━━━━━━━━━━━━━━╇━━━━━━━━━━━━━━━━━━━━━━━━━━━━━╇━━━━━━━━━━━━━━━━━┩\n",
              "│ input_layer_36 (<span style=\"color: #0087ff; text-decoration-color: #0087ff\">InputLayer</span>)          │ (<span style=\"color: #00d7ff; text-decoration-color: #00d7ff\">None</span>, <span style=\"color: #00af00; text-decoration-color: #00af00\">784</span>)                 │               <span style=\"color: #00af00; text-decoration-color: #00af00\">0</span> │\n",
              "├──────────────────────────────────────┼─────────────────────────────┼─────────────────┤\n",
              "│ first_layer (<span style=\"color: #0087ff; text-decoration-color: #0087ff\">Dense</span>)                  │ (<span style=\"color: #00d7ff; text-decoration-color: #00d7ff\">None</span>, <span style=\"color: #00af00; text-decoration-color: #00af00\">512</span>)                 │         <span style=\"color: #00af00; text-decoration-color: #00af00\">401,920</span> │\n",
              "├──────────────────────────────────────┼─────────────────────────────┼─────────────────┤\n",
              "│ second_layer (<span style=\"color: #0087ff; text-decoration-color: #0087ff\">Dense</span>)                 │ (<span style=\"color: #00d7ff; text-decoration-color: #00d7ff\">None</span>, <span style=\"color: #00af00; text-decoration-color: #00af00\">256</span>)                 │         <span style=\"color: #00af00; text-decoration-color: #00af00\">131,328</span> │\n",
              "├──────────────────────────────────────┼─────────────────────────────┼─────────────────┤\n",
              "│ dense_90 (<span style=\"color: #0087ff; text-decoration-color: #0087ff\">Dense</span>)                     │ (<span style=\"color: #00d7ff; text-decoration-color: #00d7ff\">None</span>, <span style=\"color: #00af00; text-decoration-color: #00af00\">10</span>)                  │           <span style=\"color: #00af00; text-decoration-color: #00af00\">2,570</span> │\n",
              "└──────────────────────────────────────┴─────────────────────────────┴─────────────────┘\n",
              "</pre>\n"
            ]
          },
          "metadata": {}
        },
        {
          "output_type": "display_data",
          "data": {
            "text/plain": [
              "\u001b[1m Total params: \u001b[0m\u001b[38;5;34m535,818\u001b[0m (2.04 MB)\n"
            ],
            "text/html": [
              "<pre style=\"white-space:pre;overflow-x:auto;line-height:normal;font-family:Menlo,'DejaVu Sans Mono',consolas,'Courier New',monospace\"><span style=\"font-weight: bold\"> Total params: </span><span style=\"color: #00af00; text-decoration-color: #00af00\">535,818</span> (2.04 MB)\n",
              "</pre>\n"
            ]
          },
          "metadata": {}
        },
        {
          "output_type": "display_data",
          "data": {
            "text/plain": [
              "\u001b[1m Trainable params: \u001b[0m\u001b[38;5;34m535,818\u001b[0m (2.04 MB)\n"
            ],
            "text/html": [
              "<pre style=\"white-space:pre;overflow-x:auto;line-height:normal;font-family:Menlo,'DejaVu Sans Mono',consolas,'Courier New',monospace\"><span style=\"font-weight: bold\"> Trainable params: </span><span style=\"color: #00af00; text-decoration-color: #00af00\">535,818</span> (2.04 MB)\n",
              "</pre>\n"
            ]
          },
          "metadata": {}
        },
        {
          "output_type": "display_data",
          "data": {
            "text/plain": [
              "\u001b[1m Non-trainable params: \u001b[0m\u001b[38;5;34m0\u001b[0m (0.00 B)\n"
            ],
            "text/html": [
              "<pre style=\"white-space:pre;overflow-x:auto;line-height:normal;font-family:Menlo,'DejaVu Sans Mono',consolas,'Courier New',monospace\"><span style=\"font-weight: bold\"> Non-trainable params: </span><span style=\"color: #00af00; text-decoration-color: #00af00\">0</span> (0.00 B)\n",
              "</pre>\n"
            ]
          },
          "metadata": {}
        },
        {
          "output_type": "stream",
          "name": "stdout",
          "text": [
            "None\n",
            "Epoch 1/10\n",
            "1875/1875 - 5s - 3ms/step - accuracy: 0.9433 - loss: 0.1863\n",
            "Epoch 2/10\n",
            "1875/1875 - 4s - 2ms/step - accuracy: 0.9749 - loss: 0.0787\n",
            "Epoch 3/10\n",
            "1875/1875 - 5s - 3ms/step - accuracy: 0.9828 - loss: 0.0543\n",
            "Epoch 4/10\n",
            "1875/1875 - 4s - 2ms/step - accuracy: 0.9868 - loss: 0.0405\n",
            "Epoch 5/10\n",
            "1875/1875 - 3s - 1ms/step - accuracy: 0.9888 - loss: 0.0336\n",
            "Epoch 6/10\n",
            "1875/1875 - 5s - 3ms/step - accuracy: 0.9912 - loss: 0.0268\n",
            "Epoch 7/10\n",
            "1875/1875 - 5s - 3ms/step - accuracy: 0.9928 - loss: 0.0235\n",
            "Epoch 8/10\n",
            "1875/1875 - 5s - 3ms/step - accuracy: 0.9931 - loss: 0.0211\n",
            "Epoch 9/10\n",
            "1875/1875 - 3s - 1ms/step - accuracy: 0.9941 - loss: 0.0174\n",
            "Epoch 10/10\n",
            "1875/1875 - 4s - 2ms/step - accuracy: 0.9947 - loss: 0.0166\n",
            "313/313 - 1s - 3ms/step - accuracy: 0.9795 - loss: 0.0972\n"
          ]
        },
        {
          "output_type": "execute_result",
          "data": {
            "text/plain": [
              "[0.0972265973687172, 0.9794999957084656]"
            ]
          },
          "metadata": {},
          "execution_count": 48
        }
      ]
    },
    {
      "cell_type": "code",
      "source": [
        "inputs = keras.Input(shape = (784, ))\n",
        "l1 = layers.Dense(512, activation = 'sigmoid')(inputs)\n",
        "l2 = layers.Dense(256, activation = 'sigmoid')(l1)\n",
        "outputs = layers.Dense(10, activation = 'softmax')(l2)\n",
        "\n",
        "model = keras.Model(inputs = inputs, outputs = outputs)\n",
        "\n",
        "model.compile(\n",
        "    loss = keras.losses.SparseCategoricalCrossentropy(from_logits=False),\n",
        "    optimizer = keras.optimizers.SGD(learning_rate=0.001),\n",
        "    metrics = ['accuracy']\n",
        ")\n",
        "\n",
        "model.fit(x_train, y_train, batch_size=64, epochs = 100, verbose = 2)\n",
        "model.evaluate(x_test, y_test, batch_size=64, verbose = 2 )"
      ],
      "metadata": {
        "colab": {
          "base_uri": "https://localhost:8080/"
        },
        "id": "5BBkHYxBbnpE",
        "outputId": "1212b6bc-3907-447e-d161-bb4a960ef938"
      },
      "execution_count": 52,
      "outputs": [
        {
          "output_type": "stream",
          "name": "stdout",
          "text": [
            "Epoch 1/100\n",
            "938/938 - 3s - 3ms/step - accuracy: 0.1284 - loss: 2.3001\n",
            "Epoch 2/100\n",
            "938/938 - 2s - 2ms/step - accuracy: 0.1563 - loss: 2.2746\n",
            "Epoch 3/100\n",
            "938/938 - 1s - 1ms/step - accuracy: 0.2239 - loss: 2.2594\n",
            "Epoch 4/100\n",
            "938/938 - 3s - 3ms/step - accuracy: 0.2899 - loss: 2.2437\n",
            "Epoch 5/100\n",
            "938/938 - 3s - 3ms/step - accuracy: 0.3416 - loss: 2.2275\n",
            "Epoch 6/100\n",
            "938/938 - 1s - 1ms/step - accuracy: 0.4252 - loss: 2.2107\n",
            "Epoch 7/100\n",
            "938/938 - 1s - 1ms/step - accuracy: 0.4603 - loss: 2.1929\n",
            "Epoch 8/100\n",
            "938/938 - 2s - 2ms/step - accuracy: 0.4958 - loss: 2.1741\n",
            "Epoch 9/100\n",
            "938/938 - 2s - 2ms/step - accuracy: 0.5381 - loss: 2.1542\n",
            "Epoch 10/100\n",
            "938/938 - 1s - 1ms/step - accuracy: 0.5720 - loss: 2.1326\n",
            "Epoch 11/100\n",
            "938/938 - 3s - 3ms/step - accuracy: 0.5827 - loss: 2.1096\n",
            "Epoch 12/100\n",
            "938/938 - 3s - 3ms/step - accuracy: 0.6018 - loss: 2.0848\n",
            "Epoch 13/100\n",
            "938/938 - 1s - 1ms/step - accuracy: 0.6163 - loss: 2.0576\n",
            "Epoch 14/100\n",
            "938/938 - 3s - 3ms/step - accuracy: 0.6308 - loss: 2.0284\n",
            "Epoch 15/100\n",
            "938/938 - 1s - 1ms/step - accuracy: 0.6350 - loss: 1.9968\n",
            "Epoch 16/100\n",
            "938/938 - 3s - 3ms/step - accuracy: 0.6477 - loss: 1.9626\n",
            "Epoch 17/100\n",
            "938/938 - 1s - 1ms/step - accuracy: 0.6581 - loss: 1.9257\n",
            "Epoch 18/100\n",
            "938/938 - 3s - 3ms/step - accuracy: 0.6618 - loss: 1.8859\n",
            "Epoch 19/100\n",
            "938/938 - 3s - 3ms/step - accuracy: 0.6695 - loss: 1.8437\n",
            "Epoch 20/100\n",
            "938/938 - 2s - 2ms/step - accuracy: 0.6786 - loss: 1.7988\n",
            "Epoch 21/100\n",
            "938/938 - 2s - 2ms/step - accuracy: 0.6830 - loss: 1.7518\n",
            "Epoch 22/100\n",
            "938/938 - 3s - 3ms/step - accuracy: 0.6900 - loss: 1.7029\n",
            "Epoch 23/100\n",
            "938/938 - 3s - 3ms/step - accuracy: 0.6978 - loss: 1.6526\n",
            "Epoch 24/100\n",
            "938/938 - 1s - 2ms/step - accuracy: 0.7037 - loss: 1.6016\n",
            "Epoch 25/100\n",
            "938/938 - 1s - 1ms/step - accuracy: 0.7089 - loss: 1.5502\n",
            "Epoch 26/100\n",
            "938/938 - 3s - 3ms/step - accuracy: 0.7172 - loss: 1.4992\n",
            "Epoch 27/100\n",
            "938/938 - 1s - 1ms/step - accuracy: 0.7227 - loss: 1.4490\n",
            "Epoch 28/100\n",
            "938/938 - 1s - 1ms/step - accuracy: 0.7293 - loss: 1.4000\n",
            "Epoch 29/100\n",
            "938/938 - 3s - 3ms/step - accuracy: 0.7356 - loss: 1.3527\n",
            "Epoch 30/100\n",
            "938/938 - 1s - 1ms/step - accuracy: 0.7415 - loss: 1.3073\n",
            "Epoch 31/100\n",
            "938/938 - 3s - 3ms/step - accuracy: 0.7492 - loss: 1.2639\n",
            "Epoch 32/100\n",
            "938/938 - 2s - 2ms/step - accuracy: 0.7540 - loss: 1.2227\n",
            "Epoch 33/100\n",
            "938/938 - 2s - 2ms/step - accuracy: 0.7588 - loss: 1.1838\n",
            "Epoch 34/100\n",
            "938/938 - 3s - 3ms/step - accuracy: 0.7639 - loss: 1.1469\n",
            "Epoch 35/100\n",
            "938/938 - 1s - 1ms/step - accuracy: 0.7701 - loss: 1.1122\n",
            "Epoch 36/100\n",
            "938/938 - 2s - 3ms/step - accuracy: 0.7737 - loss: 1.0796\n",
            "Epoch 37/100\n",
            "938/938 - 3s - 3ms/step - accuracy: 0.7779 - loss: 1.0490\n",
            "Epoch 38/100\n",
            "938/938 - 2s - 2ms/step - accuracy: 0.7820 - loss: 1.0201\n",
            "Epoch 39/100\n",
            "938/938 - 2s - 2ms/step - accuracy: 0.7859 - loss: 0.9930\n",
            "Epoch 40/100\n",
            "938/938 - 2s - 2ms/step - accuracy: 0.7891 - loss: 0.9675\n",
            "Epoch 41/100\n",
            "938/938 - 1s - 1ms/step - accuracy: 0.7919 - loss: 0.9434\n",
            "Epoch 42/100\n",
            "938/938 - 3s - 3ms/step - accuracy: 0.7960 - loss: 0.9208\n",
            "Epoch 43/100\n",
            "938/938 - 1s - 1ms/step - accuracy: 0.7990 - loss: 0.8995\n",
            "Epoch 44/100\n",
            "938/938 - 1s - 1ms/step - accuracy: 0.8024 - loss: 0.8792\n",
            "Epoch 45/100\n",
            "938/938 - 3s - 3ms/step - accuracy: 0.8050 - loss: 0.8602\n",
            "Epoch 46/100\n",
            "938/938 - 2s - 2ms/step - accuracy: 0.8080 - loss: 0.8422\n",
            "Epoch 47/100\n",
            "938/938 - 3s - 3ms/step - accuracy: 0.8103 - loss: 0.8251\n",
            "Epoch 48/100\n",
            "938/938 - 1s - 1ms/step - accuracy: 0.8132 - loss: 0.8088\n",
            "Epoch 49/100\n",
            "938/938 - 3s - 3ms/step - accuracy: 0.8148 - loss: 0.7934\n",
            "Epoch 50/100\n",
            "938/938 - 2s - 2ms/step - accuracy: 0.8174 - loss: 0.7787\n",
            "Epoch 51/100\n",
            "938/938 - 2s - 2ms/step - accuracy: 0.8201 - loss: 0.7648\n",
            "Epoch 52/100\n",
            "938/938 - 1s - 1ms/step - accuracy: 0.8216 - loss: 0.7515\n",
            "Epoch 53/100\n",
            "938/938 - 3s - 3ms/step - accuracy: 0.8239 - loss: 0.7389\n",
            "Epoch 54/100\n",
            "938/938 - 3s - 3ms/step - accuracy: 0.8255 - loss: 0.7268\n",
            "Epoch 55/100\n",
            "938/938 - 1s - 1ms/step - accuracy: 0.8273 - loss: 0.7152\n",
            "Epoch 56/100\n",
            "938/938 - 3s - 3ms/step - accuracy: 0.8291 - loss: 0.7042\n",
            "Epoch 57/100\n",
            "938/938 - 2s - 2ms/step - accuracy: 0.8310 - loss: 0.6936\n",
            "Epoch 58/100\n",
            "938/938 - 2s - 2ms/step - accuracy: 0.8325 - loss: 0.6835\n",
            "Epoch 59/100\n",
            "938/938 - 3s - 3ms/step - accuracy: 0.8342 - loss: 0.6738\n",
            "Epoch 60/100\n",
            "938/938 - 1s - 1ms/step - accuracy: 0.8363 - loss: 0.6645\n",
            "Epoch 61/100\n",
            "938/938 - 3s - 3ms/step - accuracy: 0.8373 - loss: 0.6556\n",
            "Epoch 62/100\n",
            "938/938 - 3s - 3ms/step - accuracy: 0.8393 - loss: 0.6471\n",
            "Epoch 63/100\n",
            "938/938 - 2s - 2ms/step - accuracy: 0.8403 - loss: 0.6388\n",
            "Epoch 64/100\n",
            "938/938 - 1s - 1ms/step - accuracy: 0.8419 - loss: 0.6310\n",
            "Epoch 65/100\n",
            "938/938 - 3s - 3ms/step - accuracy: 0.8433 - loss: 0.6233\n",
            "Epoch 66/100\n",
            "938/938 - 3s - 3ms/step - accuracy: 0.8446 - loss: 0.6160\n",
            "Epoch 67/100\n",
            "938/938 - 3s - 3ms/step - accuracy: 0.8456 - loss: 0.6090\n",
            "Epoch 68/100\n",
            "938/938 - 3s - 3ms/step - accuracy: 0.8474 - loss: 0.6022\n",
            "Epoch 69/100\n",
            "938/938 - 2s - 2ms/step - accuracy: 0.8486 - loss: 0.5956\n",
            "Epoch 70/100\n",
            "938/938 - 1s - 1ms/step - accuracy: 0.8494 - loss: 0.5894\n",
            "Epoch 71/100\n",
            "938/938 - 3s - 3ms/step - accuracy: 0.8510 - loss: 0.5833\n",
            "Epoch 72/100\n",
            "938/938 - 1s - 1ms/step - accuracy: 0.8518 - loss: 0.5774\n",
            "Epoch 73/100\n",
            "938/938 - 1s - 1ms/step - accuracy: 0.8530 - loss: 0.5717\n",
            "Epoch 74/100\n",
            "938/938 - 3s - 3ms/step - accuracy: 0.8538 - loss: 0.5662\n",
            "Epoch 75/100\n",
            "938/938 - 3s - 3ms/step - accuracy: 0.8550 - loss: 0.5609\n",
            "Epoch 76/100\n",
            "938/938 - 2s - 2ms/step - accuracy: 0.8558 - loss: 0.5557\n",
            "Epoch 77/100\n",
            "938/938 - 1s - 1ms/step - accuracy: 0.8569 - loss: 0.5507\n",
            "Epoch 78/100\n",
            "938/938 - 1s - 2ms/step - accuracy: 0.8576 - loss: 0.5459\n",
            "Epoch 79/100\n",
            "938/938 - 3s - 3ms/step - accuracy: 0.8586 - loss: 0.5412\n",
            "Epoch 80/100\n",
            "938/938 - 2s - 2ms/step - accuracy: 0.8597 - loss: 0.5367\n",
            "Epoch 81/100\n",
            "938/938 - 2s - 2ms/step - accuracy: 0.8602 - loss: 0.5322\n",
            "Epoch 82/100\n",
            "938/938 - 1s - 1ms/step - accuracy: 0.8611 - loss: 0.5280\n",
            "Epoch 83/100\n",
            "938/938 - 1s - 2ms/step - accuracy: 0.8619 - loss: 0.5238\n",
            "Epoch 84/100\n",
            "938/938 - 2s - 3ms/step - accuracy: 0.8628 - loss: 0.5198\n",
            "Epoch 85/100\n",
            "938/938 - 1s - 1ms/step - accuracy: 0.8640 - loss: 0.5159\n",
            "Epoch 86/100\n",
            "938/938 - 3s - 3ms/step - accuracy: 0.8646 - loss: 0.5120\n",
            "Epoch 87/100\n",
            "938/938 - 2s - 2ms/step - accuracy: 0.8652 - loss: 0.5083\n",
            "Epoch 88/100\n",
            "938/938 - 2s - 2ms/step - accuracy: 0.8657 - loss: 0.5047\n",
            "Epoch 89/100\n",
            "938/938 - 1s - 1ms/step - accuracy: 0.8668 - loss: 0.5012\n",
            "Epoch 90/100\n",
            "938/938 - 1s - 1ms/step - accuracy: 0.8672 - loss: 0.4977\n",
            "Epoch 91/100\n",
            "938/938 - 1s - 1ms/step - accuracy: 0.8679 - loss: 0.4944\n",
            "Epoch 92/100\n",
            "938/938 - 3s - 3ms/step - accuracy: 0.8692 - loss: 0.4912\n",
            "Epoch 93/100\n",
            "938/938 - 2s - 3ms/step - accuracy: 0.8692 - loss: 0.4881\n",
            "Epoch 94/100\n",
            "938/938 - 3s - 3ms/step - accuracy: 0.8701 - loss: 0.4849\n",
            "Epoch 95/100\n",
            "938/938 - 2s - 2ms/step - accuracy: 0.8709 - loss: 0.4819\n",
            "Epoch 96/100\n",
            "938/938 - 1s - 1ms/step - accuracy: 0.8715 - loss: 0.4790\n",
            "Epoch 97/100\n",
            "938/938 - 1s - 1ms/step - accuracy: 0.8718 - loss: 0.4761\n",
            "Epoch 98/100\n",
            "938/938 - 1s - 1ms/step - accuracy: 0.8727 - loss: 0.4733\n",
            "Epoch 99/100\n",
            "938/938 - 3s - 3ms/step - accuracy: 0.8733 - loss: 0.4706\n",
            "Epoch 100/100\n",
            "938/938 - 1s - 1ms/step - accuracy: 0.8735 - loss: 0.4679\n",
            "157/157 - 1s - 6ms/step - accuracy: 0.8808 - loss: 0.4484\n"
          ]
        },
        {
          "output_type": "execute_result",
          "data": {
            "text/plain": [
              "[0.4483986794948578, 0.8808000087738037]"
            ]
          },
          "metadata": {},
          "execution_count": 52
        }
      ]
    },
    {
      "cell_type": "code",
      "source": [],
      "metadata": {
        "id": "CNwJV7EGlTnK"
      },
      "execution_count": null,
      "outputs": []
    }
  ]
}