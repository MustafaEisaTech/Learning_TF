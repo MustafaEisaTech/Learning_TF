{
  "nbformat": 4,
  "nbformat_minor": 0,
  "metadata": {
    "colab": {
      "provenance": [],
      "gpuType": "T4",
      "authorship_tag": "ABX9TyN7hODeOpZaHgSPmHtMozy7",
      "include_colab_link": true
    },
    "kernelspec": {
      "name": "python3",
      "display_name": "Python 3"
    },
    "language_info": {
      "name": "python"
    },
    "accelerator": "GPU"
  },
  "cells": [
    {
      "cell_type": "markdown",
      "metadata": {
        "id": "view-in-github",
        "colab_type": "text"
      },
      "source": [
        "<a href=\"https://colab.research.google.com/github/MustafaEisaTech/Learning_TF/blob/main/LSTM.ipynb\" target=\"_parent\"><img src=\"https://colab.research.google.com/assets/colab-badge.svg\" alt=\"Open In Colab\"/></a>"
      ]
    },
    {
      "cell_type": "code",
      "execution_count": 1,
      "metadata": {
        "id": "fsWkIvqcAEqQ"
      },
      "outputs": [],
      "source": [
        "import os\n",
        "os.environ['TF_CPP_MIN_LOG_LEVEL'] = '2'\n",
        "import tensorflow as tf\n",
        "from tensorflow import keras\n",
        "from tensorflow.keras import layers\n",
        "from tensorflow.keras.datasets import mnist\n",
        "\n",
        "#physical_devices = tf.config.list_physical_devices('GPU')\n",
        "#tf.experimental.set_memory_growth(physical_devices[0], True)"
      ]
    },
    {
      "cell_type": "code",
      "source": [
        "(x_train, y_train), (x_test, y_test) = mnist.load_data()\n",
        "x_train = x_train.astype('float32') / 255.0\n",
        "x_test = x_test.astype('float32') / 255.0"
      ],
      "metadata": {
        "colab": {
          "base_uri": "https://localhost:8080/"
        },
        "id": "nOXp7n19Achi",
        "outputId": "4bbfb29e-5fc9-4ed0-cda5-c13cdc53dfc4"
      },
      "execution_count": 2,
      "outputs": [
        {
          "output_type": "stream",
          "name": "stdout",
          "text": [
            "Downloading data from https://storage.googleapis.com/tensorflow/tf-keras-datasets/mnist.npz\n",
            "\u001b[1m11490434/11490434\u001b[0m \u001b[32m━━━━━━━━━━━━━━━━━━━━\u001b[0m\u001b[37m\u001b[0m \u001b[1m0s\u001b[0m 0us/step\n"
          ]
        }
      ]
    },
    {
      "cell_type": "code",
      "source": [
        "model = keras.Sequential()\n",
        "model.add(keras.Input(shape=(None, 28)))\n",
        "model.add(\n",
        "    layers.LSTM(256, return_sequences=True, activation='tanh')\n",
        ")\n",
        "model.add(layers.LSTM(256, activation='tanh'))\n",
        "model.add(layers.Dense(10))"
      ],
      "metadata": {
        "id": "nEx0XtgPAvt_"
      },
      "execution_count": 3,
      "outputs": []
    },
    {
      "cell_type": "code",
      "source": [
        "model.compile(\n",
        "    loss = keras.losses.SparseCategoricalCrossentropy(from_logits=True),\n",
        "    optimizer = keras.optimizers.Adam(learning_rate=0.001),\n",
        "    metrics = ['accuracy']\n",
        ")\n",
        "model.fit(x_train, y_train, batch_size=64, epochs=10, verbose=2)\n",
        "model.evaluate(x_test, y_test, batch_size=64, verbose=2)"
      ],
      "metadata": {
        "colab": {
          "base_uri": "https://localhost:8080/"
        },
        "id": "9rg7aLJNEHI2",
        "outputId": "b86bcf36-e11e-4cdb-d11f-400ce6a63f0b"
      },
      "execution_count": 5,
      "outputs": [
        {
          "output_type": "stream",
          "name": "stdout",
          "text": [
            "Epoch 1/10\n",
            "938/938 - 10s - 11ms/step - accuracy: 0.9032 - loss: 0.2915\n",
            "Epoch 2/10\n",
            "938/938 - 9s - 9ms/step - accuracy: 0.9745 - loss: 0.0847\n",
            "Epoch 3/10\n",
            "938/938 - 10s - 11ms/step - accuracy: 0.9821 - loss: 0.0592\n",
            "Epoch 4/10\n",
            "938/938 - 11s - 11ms/step - accuracy: 0.9861 - loss: 0.0459\n",
            "Epoch 5/10\n",
            "938/938 - 7s - 7ms/step - accuracy: 0.9885 - loss: 0.0375\n",
            "Epoch 6/10\n",
            "938/938 - 7s - 7ms/step - accuracy: 0.9904 - loss: 0.0311\n",
            "Epoch 7/10\n",
            "938/938 - 10s - 11ms/step - accuracy: 0.9908 - loss: 0.0287\n",
            "Epoch 8/10\n",
            "938/938 - 7s - 7ms/step - accuracy: 0.9923 - loss: 0.0253\n",
            "Epoch 9/10\n",
            "938/938 - 7s - 7ms/step - accuracy: 0.9931 - loss: 0.0215\n",
            "Epoch 10/10\n",
            "938/938 - 10s - 11ms/step - accuracy: 0.9938 - loss: 0.0190\n",
            "157/157 - 1s - 6ms/step - accuracy: 0.9894 - loss: 0.0349\n"
          ]
        },
        {
          "output_type": "execute_result",
          "data": {
            "text/plain": [
              "[0.03486877679824829, 0.9894000291824341]"
            ]
          },
          "metadata": {},
          "execution_count": 5
        }
      ]
    },
    {
      "cell_type": "code",
      "source": [],
      "metadata": {
        "id": "1-gkGSGeEb1b"
      },
      "execution_count": null,
      "outputs": []
    }
  ]
}