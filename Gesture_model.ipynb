{
  "nbformat": 4,
  "nbformat_minor": 0,
  "metadata": {
    "colab": {
      "provenance": [],
      "authorship_tag": "ABX9TyM/Cj87r0kG1RO/e4OFDxzL",
      "include_colab_link": true
    },
    "kernelspec": {
      "name": "python3",
      "display_name": "Python 3"
    },
    "language_info": {
      "name": "python"
    }
  },
  "cells": [
    {
      "cell_type": "markdown",
      "metadata": {
        "id": "view-in-github",
        "colab_type": "text"
      },
      "source": [
        "<a href=\"https://colab.research.google.com/github/MustafaEisaTech/Learning_TF/blob/main/Gesture_model.ipynb\" target=\"_parent\"><img src=\"https://colab.research.google.com/assets/colab-badge.svg\" alt=\"Open In Colab\"/></a>"
      ]
    },
    {
      "cell_type": "code",
      "execution_count": 5,
      "metadata": {
        "id": "j6p7IYizwRTU"
      },
      "outputs": [],
      "source": [
        "import os\n",
        "os.environ['TF_CPP_MIN_LOG_LEVEL'] = '2'\n",
        "import tensorflow as tf\n",
        "from tensorflow import keras\n",
        "from tensorflow.keras.layers import LSTM, Conv2D, TimeDistributed, Dropout, Dense, MaxPooling2D, Flatten"
      ]
    },
    {
      "cell_type": "code",
      "source": [
        "def TimeModel(input_shape, num_of_classes):\n",
        "  inputs = keras.Input(input_shape=input_shape)\n",
        "  x = TimeDistributed(Conv2D(32, (3, 3), activation='relu'))(input)\n",
        "  x = TimeDistributed(MaxPooling2D())(x)\n",
        "  x = TimeDistributed(Conv2D(64, (3, 3), activation='relu'))(x)\n",
        "  x = TimeDistributed(MaxPooling2D())(x)\n",
        "  x = TimeDistributed(Conv2D(128, (3, 3), activation='relu'))(x)\n",
        "  x = TimeDistributed(MaxPooling2D())(x)\n",
        "  x = TimeDistributed(Flatten())(x)\n",
        "\n",
        "  x = LSTM(128, return_sequences=True)(x)\n",
        "  x = Dropout(0.5)(x)\n",
        "  x = LSTM(64)(x)\n",
        "  x = Dropout(0.5)(x)\n",
        "\n",
        "  x = Dense(64, activation='relu')(x)\n",
        "  outputs = Dense(num_of_classes, activation='sigmoid')(x)\n",
        "  model = keras.Model(inputs= inputs, outputs = outputs)\n",
        "  return model\n",
        "\n",
        "model = TimeModel()\n",
        "model.compile(\n",
        "    loss = keras.losses.SparseCategoricalCrossentropy(from_logits=False),\n",
        "    optimizer = keras.optimizers.Adam(),\n",
        "    metrics = ['accuracy']\n",
        ")\n",
        "\n",
        "model.fit()"
      ],
      "metadata": {
        "id": "OGa_mDtQzXsH"
      },
      "execution_count": null,
      "outputs": []
    }
  ]
}